{
 "cells": [
  {
   "cell_type": "code",
   "execution_count": 28,
   "metadata": {},
   "outputs": [],
   "source": [
    "#questions or objectives,\n",
    "#1.total number of products by category\n",
    "#2.types of products under Category\n",
    "#3.total number of products under each Category\n",
    "#4.most searched type of product under Category\n",
    "#5.least searched types of product under Category\n",
    "\n",
    "#questions on variable Brand\n",
    "#1.total number of Brands searched\n",
    "#2.number of different Brands\n",
    "#3.top 10 most searched products by Brand\n",
    "#4.top 10 least searched products by Brand\n",
    "\n",
    "#question on Stock Availability\n",
    "#1.status on availibility of products\n",
    "\n",
    "#hence our focus will be mainly on the variables Category, Brand and and Stock Availability."
   ]
  },
  {
   "cell_type": "code",
   "execution_count": 29,
   "metadata": {},
   "outputs": [],
   "source": [
    "#Importing libraries\n",
    "\n",
    "#data manipulation\n",
    "import pandas as pd\n",
    "import numpy as np\n",
    "import os\n",
    "\n",
    "#data visualisation\n",
    "import matplotlib.pyplot as plt\n",
    "%matplotlib inline\n",
    "\n",
    "import seaborn as sns\n"
   ]
  },
  {
   "cell_type": "code",
   "execution_count": 30,
   "metadata": {},
   "outputs": [],
   "source": [
    "#importing the dataset\n",
    "df=pd.read_csv('data.csv')\n"
   ]
  },
  {
   "cell_type": "code",
   "execution_count": 31,
   "metadata": {
    "scrolled": true
   },
   "outputs": [
    {
     "data": {
      "text/html": [
       "<div>\n",
       "<style scoped>\n",
       "    .dataframe tbody tr th:only-of-type {\n",
       "        vertical-align: middle;\n",
       "    }\n",
       "\n",
       "    .dataframe tbody tr th {\n",
       "        vertical-align: top;\n",
       "    }\n",
       "\n",
       "    .dataframe thead th {\n",
       "        text-align: right;\n",
       "    }\n",
       "</style>\n",
       "<table border=\"1\" class=\"dataframe\">\n",
       "  <thead>\n",
       "    <tr style=\"text-align: right;\">\n",
       "      <th></th>\n",
       "      <th>Uniq Id</th>\n",
       "      <th>Crawl Timestamp</th>\n",
       "      <th>Category</th>\n",
       "      <th>Product Title</th>\n",
       "      <th>Product Description</th>\n",
       "      <th>Brand</th>\n",
       "      <th>Pack Size Or Quantity</th>\n",
       "      <th>Mrp</th>\n",
       "      <th>Price</th>\n",
       "      <th>Site Name</th>\n",
       "      <th>Offers</th>\n",
       "      <th>Combo Offers</th>\n",
       "      <th>Stock Availibility</th>\n",
       "      <th>Product Asin</th>\n",
       "      <th>Image Urls</th>\n",
       "    </tr>\n",
       "  </thead>\n",
       "  <tbody>\n",
       "    <tr>\n",
       "      <th>0</th>\n",
       "      <td>eb49cc038190f6f03c272f79fbbce894</td>\n",
       "      <td>2019-10-30 11:38:11 +0000</td>\n",
       "      <td>Skin Care</td>\n",
       "      <td>Lee posh Lactic Acid 60% Anti ageing Pigmenta...</td>\n",
       "      <td>PROFESSIONAL GRADE Face Peel: this peel stimul...</td>\n",
       "      <td>Lee Posh</td>\n",
       "      <td>NaN</td>\n",
       "      <td>2000</td>\n",
       "      <td>799</td>\n",
       "      <td>Amazon In</td>\n",
       "      <td>60.05%</td>\n",
       "      <td>NaN</td>\n",
       "      <td>YES</td>\n",
       "      <td>B072BGHNJ1</td>\n",
       "      <td>https://images-na.ssl-images-amazon.com/images...</td>\n",
       "    </tr>\n",
       "    <tr>\n",
       "      <th>1</th>\n",
       "      <td>1657cc30c438affede6a5060d6847363</td>\n",
       "      <td>2019-10-31 15:46:54 +0000</td>\n",
       "      <td>Skin Care</td>\n",
       "      <td>Branded SLB Works New 1.5mm Titanium 1200 nee...</td>\n",
       "      <td>Item name: 1.5mm titanium 1200 needles microne...</td>\n",
       "      <td>SLB Works</td>\n",
       "      <td>NaN</td>\n",
       "      <td>2040</td>\n",
       "      <td>2040</td>\n",
       "      <td>Amazon In</td>\n",
       "      <td>0%</td>\n",
       "      <td>NaN</td>\n",
       "      <td>YES</td>\n",
       "      <td>B07QDTZYSJ</td>\n",
       "      <td>https://images-na.ssl-images-amazon.com/images...</td>\n",
       "    </tr>\n",
       "  </tbody>\n",
       "</table>\n",
       "</div>"
      ],
      "text/plain": [
       "                            Uniq Id            Crawl Timestamp   Category  \\\n",
       "0  eb49cc038190f6f03c272f79fbbce894  2019-10-30 11:38:11 +0000  Skin Care   \n",
       "1  1657cc30c438affede6a5060d6847363  2019-10-31 15:46:54 +0000  Skin Care   \n",
       "\n",
       "                                       Product Title  \\\n",
       "0   Lee posh Lactic Acid 60% Anti ageing Pigmenta...   \n",
       "1   Branded SLB Works New 1.5mm Titanium 1200 nee...   \n",
       "\n",
       "                                 Product Description      Brand  \\\n",
       "0  PROFESSIONAL GRADE Face Peel: this peel stimul...   Lee Posh   \n",
       "1  Item name: 1.5mm titanium 1200 needles microne...  SLB Works   \n",
       "\n",
       "  Pack Size Or Quantity   Mrp Price  Site Name  Offers Combo Offers  \\\n",
       "0                   NaN  2000   799  Amazon In  60.05%          NaN   \n",
       "1                   NaN  2040  2040  Amazon In      0%          NaN   \n",
       "\n",
       "  Stock Availibility Product Asin  \\\n",
       "0                YES   B072BGHNJ1   \n",
       "1                YES   B07QDTZYSJ   \n",
       "\n",
       "                                          Image Urls  \n",
       "0  https://images-na.ssl-images-amazon.com/images...  \n",
       "1  https://images-na.ssl-images-amazon.com/images...  "
      ]
     },
     "execution_count": 31,
     "metadata": {},
     "output_type": "execute_result"
    }
   ],
   "source": [
    "#first two rows of dataset \n",
    "df.head(2)\n"
   ]
  },
  {
   "cell_type": "code",
   "execution_count": 14,
   "metadata": {},
   "outputs": [
    {
     "data": {
      "text/html": [
       "<div>\n",
       "<style scoped>\n",
       "    .dataframe tbody tr th:only-of-type {\n",
       "        vertical-align: middle;\n",
       "    }\n",
       "\n",
       "    .dataframe tbody tr th {\n",
       "        vertical-align: top;\n",
       "    }\n",
       "\n",
       "    .dataframe thead th {\n",
       "        text-align: right;\n",
       "    }\n",
       "</style>\n",
       "<table border=\"1\" class=\"dataframe\">\n",
       "  <thead>\n",
       "    <tr style=\"text-align: right;\">\n",
       "      <th></th>\n",
       "      <th>Uniq Id</th>\n",
       "      <th>Crawl Timestamp</th>\n",
       "      <th>Category</th>\n",
       "      <th>Product Title</th>\n",
       "      <th>Product Description</th>\n",
       "      <th>Brand</th>\n",
       "      <th>Pack Size Or Quantity</th>\n",
       "      <th>Mrp</th>\n",
       "      <th>Price</th>\n",
       "      <th>Site Name</th>\n",
       "      <th>Offers</th>\n",
       "      <th>Combo Offers</th>\n",
       "      <th>Stock Availibility</th>\n",
       "      <th>Product Asin</th>\n",
       "      <th>Image Urls</th>\n",
       "    </tr>\n",
       "  </thead>\n",
       "  <tbody>\n",
       "    <tr>\n",
       "      <th>29998</th>\n",
       "      <td>3ccde473d9a55023ac0a566bf5448df9</td>\n",
       "      <td>2019-10-31 08:20:12 +0000</td>\n",
       "      <td>Hair Care</td>\n",
       "      <td>KEYA SETH AROMATHERAPY, DEVICE OF DROP Alopex...</td>\n",
       "      <td>NaN</td>\n",
       "      <td>KEYA SETH AROMATHERAPY, DEVICE OF DROP</td>\n",
       "      <td>NaN</td>\n",
       "      <td>350</td>\n",
       "      <td>350</td>\n",
       "      <td>Amazon In</td>\n",
       "      <td>0%</td>\n",
       "      <td>NaN</td>\n",
       "      <td>YES</td>\n",
       "      <td>B07KM37RDH</td>\n",
       "      <td>https://images-na.ssl-images-amazon.com/images...</td>\n",
       "    </tr>\n",
       "    <tr>\n",
       "      <th>29999</th>\n",
       "      <td>59cd6ea8f1025519a4ce26b2c89fabfc</td>\n",
       "      <td>2019-10-30 07:54:05 +0000</td>\n",
       "      <td>Skin Care</td>\n",
       "      <td>Slss Anti Wrinkle Organic Hyaluronic Acid Vit...</td>\n",
       "      <td>With 2.5% active Retinol, Hyaluronic Acid, Vit...</td>\n",
       "      <td>Slss</td>\n",
       "      <td>NaN</td>\n",
       "      <td>2134</td>\n",
       "      <td>2134</td>\n",
       "      <td>Amazon In</td>\n",
       "      <td>0%</td>\n",
       "      <td>NaN</td>\n",
       "      <td>YES</td>\n",
       "      <td>B07LB1L8YR</td>\n",
       "      <td>https://images-na.ssl-images-amazon.com/images...</td>\n",
       "    </tr>\n",
       "  </tbody>\n",
       "</table>\n",
       "</div>"
      ],
      "text/plain": [
       "                                Uniq Id            Crawl Timestamp   Category  \\\n",
       "29998  3ccde473d9a55023ac0a566bf5448df9  2019-10-31 08:20:12 +0000  Hair Care   \n",
       "29999  59cd6ea8f1025519a4ce26b2c89fabfc  2019-10-30 07:54:05 +0000  Skin Care   \n",
       "\n",
       "                                           Product Title  \\\n",
       "29998   KEYA SETH AROMATHERAPY, DEVICE OF DROP Alopex...   \n",
       "29999   Slss Anti Wrinkle Organic Hyaluronic Acid Vit...   \n",
       "\n",
       "                                     Product Description  \\\n",
       "29998                                                NaN   \n",
       "29999  With 2.5% active Retinol, Hyaluronic Acid, Vit...   \n",
       "\n",
       "                                        Brand Pack Size Or Quantity   Mrp  \\\n",
       "29998  KEYA SETH AROMATHERAPY, DEVICE OF DROP                   NaN   350   \n",
       "29999                                    Slss                   NaN  2134   \n",
       "\n",
       "      Price  Site Name Offers Combo Offers Stock Availibility Product Asin  \\\n",
       "29998   350  Amazon In     0%          NaN                YES   B07KM37RDH   \n",
       "29999  2134  Amazon In     0%          NaN                YES   B07LB1L8YR   \n",
       "\n",
       "                                              Image Urls  \n",
       "29998  https://images-na.ssl-images-amazon.com/images...  \n",
       "29999  https://images-na.ssl-images-amazon.com/images...  "
      ]
     },
     "execution_count": 14,
     "metadata": {},
     "output_type": "execute_result"
    }
   ],
   "source": [
    "#last two rows\n",
    "df.tail(2)\n"
   ]
  },
  {
   "cell_type": "code",
   "execution_count": 15,
   "metadata": {
    "scrolled": true
   },
   "outputs": [
    {
     "data": {
      "text/plain": [
       "(30000, 15)"
      ]
     },
     "execution_count": 15,
     "metadata": {},
     "output_type": "execute_result"
    }
   ],
   "source": [
    "#shape of the dataset i.e number of rows and columns\n",
    "df.shape\n"
   ]
  },
  {
   "cell_type": "code",
   "execution_count": 16,
   "metadata": {
    "scrolled": false
   },
   "outputs": [
    {
     "data": {
      "text/plain": [
       "Index(['Uniq Id', 'Crawl Timestamp', 'Category', 'Product Title',\n",
       "       'Product Description', 'Brand', 'Pack Size Or Quantity', 'Mrp', 'Price',\n",
       "       'Site Name', 'Offers', 'Combo Offers', 'Stock Availibility',\n",
       "       'Product Asin', 'Image Urls'],\n",
       "      dtype='object')"
      ]
     },
     "execution_count": 16,
     "metadata": {},
     "output_type": "execute_result"
    }
   ],
   "source": [
    "#columns in the dataset\n",
    "df.columns\n"
   ]
  },
  {
   "cell_type": "code",
   "execution_count": 17,
   "metadata": {
    "scrolled": true
   },
   "outputs": [
    {
     "data": {
      "text/html": [
       "<div>\n",
       "<style scoped>\n",
       "    .dataframe tbody tr th:only-of-type {\n",
       "        vertical-align: middle;\n",
       "    }\n",
       "\n",
       "    .dataframe tbody tr th {\n",
       "        vertical-align: top;\n",
       "    }\n",
       "\n",
       "    .dataframe thead th {\n",
       "        text-align: right;\n",
       "    }\n",
       "</style>\n",
       "<table border=\"1\" class=\"dataframe\">\n",
       "  <thead>\n",
       "    <tr style=\"text-align: right;\">\n",
       "      <th></th>\n",
       "      <th>Category</th>\n",
       "      <th>Brand</th>\n",
       "      <th>Pack Size Or Quantity</th>\n",
       "      <th>Mrp</th>\n",
       "      <th>Price</th>\n",
       "      <th>Offers</th>\n",
       "      <th>Combo Offers</th>\n",
       "      <th>Stock Availibility</th>\n",
       "    </tr>\n",
       "  </thead>\n",
       "  <tbody>\n",
       "    <tr>\n",
       "      <th>0</th>\n",
       "      <td>Skin Care</td>\n",
       "      <td>Lee Posh</td>\n",
       "      <td>NaN</td>\n",
       "      <td>2000</td>\n",
       "      <td>799</td>\n",
       "      <td>60.05%</td>\n",
       "      <td>NaN</td>\n",
       "      <td>YES</td>\n",
       "    </tr>\n",
       "    <tr>\n",
       "      <th>1</th>\n",
       "      <td>Skin Care</td>\n",
       "      <td>SLB Works</td>\n",
       "      <td>NaN</td>\n",
       "      <td>2040</td>\n",
       "      <td>2040</td>\n",
       "      <td>0%</td>\n",
       "      <td>NaN</td>\n",
       "      <td>YES</td>\n",
       "    </tr>\n",
       "    <tr>\n",
       "      <th>2</th>\n",
       "      <td>Skin Care</td>\n",
       "      <td>Generic</td>\n",
       "      <td>NaN</td>\n",
       "      <td>1824</td>\n",
       "      <td>1042</td>\n",
       "      <td>42.87%</td>\n",
       "      <td>NaN</td>\n",
       "      <td>YES</td>\n",
       "    </tr>\n",
       "    <tr>\n",
       "      <th>3</th>\n",
       "      <td>Skin Care</td>\n",
       "      <td>Generic</td>\n",
       "      <td>NaN</td>\n",
       "      <td>2185</td>\n",
       "      <td>1399</td>\n",
       "      <td>35.97%</td>\n",
       "      <td>NaN</td>\n",
       "      <td>YES</td>\n",
       "    </tr>\n",
       "    <tr>\n",
       "      <th>4</th>\n",
       "      <td>Grocery &amp; Gourmet Foods</td>\n",
       "      <td>Harveys</td>\n",
       "      <td>NaN</td>\n",
       "      <td>594</td>\n",
       "      <td>570</td>\n",
       "      <td>4.04%</td>\n",
       "      <td>NaN</td>\n",
       "      <td>YES</td>\n",
       "    </tr>\n",
       "  </tbody>\n",
       "</table>\n",
       "</div>"
      ],
      "text/plain": [
       "                  Category      Brand Pack Size Or Quantity   Mrp Price  \\\n",
       "0                Skin Care   Lee Posh                   NaN  2000   799   \n",
       "1                Skin Care  SLB Works                   NaN  2040  2040   \n",
       "2                Skin Care    Generic                   NaN  1824  1042   \n",
       "3                Skin Care    Generic                   NaN  2185  1399   \n",
       "4  Grocery & Gourmet Foods    Harveys                   NaN   594   570   \n",
       "\n",
       "   Offers Combo Offers Stock Availibility  \n",
       "0  60.05%          NaN                YES  \n",
       "1      0%          NaN                YES  \n",
       "2  42.87%          NaN                YES  \n",
       "3  35.97%          NaN                YES  \n",
       "4   4.04%          NaN                YES  "
      ]
     },
     "execution_count": 17,
     "metadata": {},
     "output_type": "execute_result"
    }
   ],
   "source": [
    "#deleting unwanted columns using drop command on dataset\n",
    "\n",
    "df.drop(columns=['Uniq Id','Crawl Timestamp','Product Title','Product Description','Site Name','Product Asin','Image Urls'], inplace=True)\n",
    "\n",
    "df.head()\n"
   ]
  },
  {
   "cell_type": "code",
   "execution_count": 18,
   "metadata": {},
   "outputs": [
    {
     "data": {
      "text/plain": [
       "Category                     0\n",
       "Brand                       87\n",
       "Pack Size Or Quantity    19776\n",
       "Mrp                        699\n",
       "Price                      600\n",
       "Offers                     466\n",
       "Combo Offers             29963\n",
       "Stock Availibility           0\n",
       "dtype: int64"
      ]
     },
     "execution_count": 18,
     "metadata": {},
     "output_type": "execute_result"
    }
   ],
   "source": [
    "#checking for missing values like NA, N/A, na values\n",
    "df.isnull().sum() \n"
   ]
  },
  {
   "cell_type": "code",
   "execution_count": 19,
   "metadata": {},
   "outputs": [
    {
     "data": {
      "text/plain": [
       "(30000, 8)"
      ]
     },
     "execution_count": 19,
     "metadata": {},
     "output_type": "execute_result"
    }
   ],
   "source": [
    "df.shape"
   ]
  },
  {
   "cell_type": "code",
   "execution_count": 32,
   "metadata": {},
   "outputs": [
    {
     "data": {
      "text/plain": [
       "0"
      ]
     },
     "execution_count": 32,
     "metadata": {},
     "output_type": "execute_result"
    }
   ],
   "source": [
    "#there are no missing values in Category and Stock Availibility but there are some in Brand\n",
    "#removing missing values in Brand\n",
    "df1=df.iloc[:,1] #creatng a seperate list for the Brand\n",
    "df1\n",
    "df2=df1.dropna() #removing the missing values\n",
    "df2 #data on Brand without missing values\n",
    "df2.isnull().sum()\n"
   ]
  },
  {
   "cell_type": "code",
   "execution_count": 21,
   "metadata": {},
   "outputs": [
    {
     "data": {
      "text/plain": [
       "(29913,)"
      ]
     },
     "execution_count": 21,
     "metadata": {},
     "output_type": "execute_result"
    }
   ],
   "source": [
    "df2.shape\n"
   ]
  },
  {
   "cell_type": "code",
   "execution_count": 22,
   "metadata": {
    "scrolled": true
   },
   "outputs": [
    {
     "name": "stdout",
     "output_type": "stream",
     "text": [
      "<class 'pandas.core.frame.DataFrame'>\n",
      "RangeIndex: 30000 entries, 0 to 29999\n",
      "Data columns (total 8 columns):\n",
      "Category                 30000 non-null object\n",
      "Brand                    29913 non-null object\n",
      "Pack Size Or Quantity    10224 non-null object\n",
      "Mrp                      29301 non-null object\n",
      "Price                    29400 non-null object\n",
      "Offers                   29534 non-null object\n",
      "Combo Offers             37 non-null object\n",
      "Stock Availibility       30000 non-null object\n",
      "dtypes: object(8)\n",
      "memory usage: 1.8+ MB\n"
     ]
    }
   ],
   "source": [
    "#for getting a concise summary of the dataset\n",
    "df.info()\n"
   ]
  },
  {
   "cell_type": "code",
   "execution_count": 23,
   "metadata": {},
   "outputs": [
    {
     "data": {
      "text/plain": [
       "count         30000\n",
       "unique            6\n",
       "top       Skin Care\n",
       "freq          15033\n",
       "Name: Category, dtype: object"
      ]
     },
     "execution_count": 23,
     "metadata": {},
     "output_type": "execute_result"
    }
   ],
   "source": [
    "#variable Category\n",
    "#1.total number of products by category\n",
    "df[\"Category\"].describe()\n",
    "#there are 30,000 products by Category in the Product list.\n"
   ]
  },
  {
   "cell_type": "code",
   "execution_count": 24,
   "metadata": {
    "scrolled": true
   },
   "outputs": [
    {
     "data": {
      "text/plain": [
       "Skin Care                  15033\n",
       "Grocery & Gourmet Foods     8064\n",
       "Hair Care                   2459\n",
       "Bath & Shower               2140\n",
       "Fragrance                   2107\n",
       "Detergents & Dishwash        197\n",
       "Name: Category, dtype: int64"
      ]
     },
     "execution_count": 24,
     "metadata": {},
     "output_type": "execute_result"
    }
   ],
   "source": [
    "#2.types of products under Category\n",
    "#3.total number of products under each Category\n",
    "#4.most searched type of product under Category\n",
    "#5.least searched types of product under Category\n",
    "df[\"Category\"].value_counts()\n",
    "\n",
    "#there are 6 types of products under Category namely Skin Care, Grocery & Gourmet Foods, Hair Care, Bath & Shower, Fragrance and Detergents & Dishwash.\n",
    "\n",
    "#there are 15033 products under Skin Care, 8064 products under  Grocery & Gourmet Foods, 2459 products under Hair Care, 2140 products under Bath & Shower, 2107 under Fragrance and 197 under Detergents & Dishwash.\n",
    "\n",
    "#Skin Care was the most searched type of product compared to other products.\n",
    "\n",
    "#Detergents & Dishwash was the least searched type of product compared to other products.\n"
   ]
  },
  {
   "cell_type": "code",
   "execution_count": 25,
   "metadata": {},
   "outputs": [
    {
     "data": {
      "text/plain": [
       "count          29913\n",
       "unique          8454\n",
       "top       CHOCOCRAFT\n",
       "freq            1465\n",
       "Name: Brand, dtype: object"
      ]
     },
     "execution_count": 25,
     "metadata": {},
     "output_type": "execute_result"
    }
   ],
   "source": [
    "#variable Brand\n",
    "#1.total number of Brands searched\n",
    "#2.number of different Brands\n",
    "df2.describe()\n",
    "\n",
    "#totally 29913 Brands was searched.\n",
    "\n",
    "#there are totally 8454 different Brands in the Product list.\n"
   ]
  },
  {
   "cell_type": "code",
   "execution_count": 26,
   "metadata": {},
   "outputs": [
    {
     "data": {
      "text/plain": [
       "CHOCOCRAFT                         1465\n",
       "Generic                            1284\n",
       "Chocholik                           698\n",
       "World Beauty                        527\n",
       "BOGATCHI                            420\n",
       "Stockout                            408\n",
       "Parag fragrances                    395\n",
       "Homely                              381\n",
       "Royal Beauty                        360\n",
       "Unknown                             286\n",
       "De'Arco Chocolatier                 266\n",
       "Ancient Flower                      246\n",
       "BeautyNeeds                         196\n",
       "Ubervia                             168\n",
       "SLB Works                           152\n",
       "BuyChoice                           148\n",
       "YaYa cafe                           144\n",
       "dève herbes                         138\n",
       "Khadi                               126\n",
       "PINK PLUMS                          124\n",
       "Genuine                             118\n",
       "Shrinika                            112\n",
       "R V Essential                       109\n",
       "PINKDOSE                             98\n",
       "                                     97\n",
       "atoz prime                           95\n",
       "Greenwood Essential                  94\n",
       "sensadore                            88\n",
       "Midiron                              83\n",
       "Business To Customer                 82\n",
       "                                   ... \n",
       "HillDews                              1\n",
       "BlueOrange                            1\n",
       "Lyle%27s                              1\n",
       "CADBURRY                              1\n",
       "cold pressed oils( KACHI GHANI)       1\n",
       "Aroura Achar Since 1944               1\n",
       "Swasy                                 1\n",
       "Anvera                                1\n",
       "Epic                                  1\n",
       "Da Yogis                              1\n",
       "Herbs & More                          1\n",
       "Toms                                  1\n",
       "FineX                                 1\n",
       "Basket                                1\n",
       "KKS Oil                               1\n",
       "Organic & Botanic                     1\n",
       "CONTEXT                               1\n",
       "Candi Andi                            1\n",
       "AriaStarrBeauty                       1\n",
       "LAKMÉ                                 1\n",
       "Nalabagam                             1\n",
       "Smooth                                1\n",
       "Moddy's                               1\n",
       "NewU                                  1\n",
       "Gloria Vanderbilt                     1\n",
       "Texas+Beard+Company                   1\n",
       "Truvisage                             1\n",
       "Toute                                 1\n",
       "Celestial Seasonings                  1\n",
       "WAGA                                  1\n",
       "Name: Brand, Length: 8454, dtype: int64"
      ]
     },
     "execution_count": 26,
     "metadata": {},
     "output_type": "execute_result"
    }
   ],
   "source": [
    "#3.top 10 most searched products by Brand\n",
    "#4.top 10 least searched products by Brand\n",
    "df2.value_counts()\n",
    "\n",
    "#top 10 most searched products by Brand are CHOCOCRAFT, Generic, Chocholik, World Beauty, BOGATCHI, Stockout, Parag fragrances, Homely, Royal Beauty and De'Arco Chocolatier.\n",
    "\n",
    "#there are many least searched products by Brand i.e which are searched only once.\n"
   ]
  },
  {
   "cell_type": "code",
   "execution_count": 27,
   "metadata": {
    "scrolled": true
   },
   "outputs": [
    {
     "data": {
      "text/plain": [
       "YES    29523\n",
       "NO       477\n",
       "Name: Stock Availibility, dtype: int64"
      ]
     },
     "execution_count": 27,
     "metadata": {},
     "output_type": "execute_result"
    }
   ],
   "source": [
    "#variable Stock Availibility\n",
    "#1.status on availibility of products\n",
    "df[\"Stock Availibility\"].value_counts()\n",
    "#out of 30,000 total products by Category, 29523 were made available for purchase and 477 were out of stock.\n"
   ]
  },
  {
   "cell_type": "code",
   "execution_count": null,
   "metadata": {},
   "outputs": [],
   "source": []
  }
 ],
 "metadata": {
  "kernelspec": {
   "display_name": "Python 3",
   "language": "python",
   "name": "python3"
  },
  "language_info": {
   "codemirror_mode": {
    "name": "ipython",
    "version": 3
   },
   "file_extension": ".py",
   "mimetype": "text/x-python",
   "name": "python",
   "nbconvert_exporter": "python",
   "pygments_lexer": "ipython3",
   "version": "3.7.3"
  }
 },
 "nbformat": 4,
 "nbformat_minor": 2
}
